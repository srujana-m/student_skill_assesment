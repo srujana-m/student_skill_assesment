{
 "cells": [
  {
   "cell_type": "code",
   "execution_count": 1,
   "id": "1af24bbf",
   "metadata": {
    "ExecuteTime": {
     "end_time": "2021-09-04T14:55:32.055239Z",
     "start_time": "2021-09-04T14:55:30.520890Z"
    }
   },
   "outputs": [],
   "source": [
    "import pandas as pd\n",
    "import numpy as np\n",
    "import matplotlib.pyplot as plt\n",
    "import seaborn as sns\n",
    "\n",
    "from warnings import filterwarnings\n",
    "filterwarnings('ignore')"
   ]
  },
  {
   "cell_type": "code",
   "execution_count": 2,
   "id": "a209b1d6",
   "metadata": {
    "ExecuteTime": {
     "end_time": "2021-09-04T14:55:32.846704Z",
     "start_time": "2021-09-04T14:55:32.057238Z"
    }
   },
   "outputs": [],
   "source": [
    "import matplotlib.pyplot as plt\n",
    "from matplotlib.colors import ListedColormap\n",
    "\n",
    "# import 'Seaborn' \n",
    "import seaborn as sns\n",
    "\n",
    "# to suppress warnings \n",
    "from warnings import filterwarnings\n",
    "filterwarnings('ignore')\n",
    "\n",
    "# display all columns of the dataframe\n",
    "pd.options.display.max_columns = None\n",
    "\n",
    "# display all rows of the dataframe\n",
    "pd.options.display.max_rows = None\n",
    " \n",
    "# to display the float values upto 6 decimal places     \n",
    "pd.options.display.float_format = '{:.6f}'.format\n",
    "\n",
    "# import train-test split \n",
    "from sklearn.model_selection import train_test_split,GridSearchCV"
   ]
  },
  {
   "cell_type": "code",
   "execution_count": 3,
   "id": "28360391",
   "metadata": {
    "ExecuteTime": {
     "end_time": "2021-09-04T14:55:32.877714Z",
     "start_time": "2021-09-04T14:55:32.848706Z"
    }
   },
   "outputs": [
    {
     "data": {
      "text/html": [
       "<div>\n",
       "<style scoped>\n",
       "    .dataframe tbody tr th:only-of-type {\n",
       "        vertical-align: middle;\n",
       "    }\n",
       "\n",
       "    .dataframe tbody tr th {\n",
       "        vertical-align: top;\n",
       "    }\n",
       "\n",
       "    .dataframe thead th {\n",
       "        text-align: right;\n",
       "    }\n",
       "</style>\n",
       "<table border=\"1\" class=\"dataframe\">\n",
       "  <thead>\n",
       "    <tr style=\"text-align: right;\">\n",
       "      <th></th>\n",
       "      <th>Age</th>\n",
       "      <th>Gender</th>\n",
       "      <th>Stream</th>\n",
       "      <th>Internships</th>\n",
       "      <th>CGPA</th>\n",
       "      <th>Hostel</th>\n",
       "      <th>HistoryOfBacklogs</th>\n",
       "      <th>PlacedOrNot</th>\n",
       "    </tr>\n",
       "  </thead>\n",
       "  <tbody>\n",
       "    <tr>\n",
       "      <th>0</th>\n",
       "      <td>22</td>\n",
       "      <td>Male</td>\n",
       "      <td>Electronics And Communication</td>\n",
       "      <td>1</td>\n",
       "      <td>8</td>\n",
       "      <td>1</td>\n",
       "      <td>1</td>\n",
       "      <td>1</td>\n",
       "    </tr>\n",
       "    <tr>\n",
       "      <th>1</th>\n",
       "      <td>21</td>\n",
       "      <td>Female</td>\n",
       "      <td>Computer Science</td>\n",
       "      <td>0</td>\n",
       "      <td>7</td>\n",
       "      <td>1</td>\n",
       "      <td>1</td>\n",
       "      <td>1</td>\n",
       "    </tr>\n",
       "    <tr>\n",
       "      <th>2</th>\n",
       "      <td>22</td>\n",
       "      <td>Female</td>\n",
       "      <td>Information Technology</td>\n",
       "      <td>1</td>\n",
       "      <td>6</td>\n",
       "      <td>0</td>\n",
       "      <td>0</td>\n",
       "      <td>1</td>\n",
       "    </tr>\n",
       "    <tr>\n",
       "      <th>3</th>\n",
       "      <td>21</td>\n",
       "      <td>Male</td>\n",
       "      <td>Information Technology</td>\n",
       "      <td>0</td>\n",
       "      <td>8</td>\n",
       "      <td>0</td>\n",
       "      <td>1</td>\n",
       "      <td>1</td>\n",
       "    </tr>\n",
       "    <tr>\n",
       "      <th>4</th>\n",
       "      <td>22</td>\n",
       "      <td>Male</td>\n",
       "      <td>Mechanical</td>\n",
       "      <td>0</td>\n",
       "      <td>8</td>\n",
       "      <td>1</td>\n",
       "      <td>0</td>\n",
       "      <td>1</td>\n",
       "    </tr>\n",
       "  </tbody>\n",
       "</table>\n",
       "</div>"
      ],
      "text/plain": [
       "   Age  Gender                         Stream  Internships  CGPA  Hostel  \\\n",
       "0   22    Male  Electronics And Communication            1     8       1   \n",
       "1   21  Female               Computer Science            0     7       1   \n",
       "2   22  Female         Information Technology            1     6       0   \n",
       "3   21    Male         Information Technology            0     8       0   \n",
       "4   22    Male                     Mechanical            0     8       1   \n",
       "\n",
       "   HistoryOfBacklogs  PlacedOrNot  \n",
       "0                  1            1  \n",
       "1                  1            1  \n",
       "2                  0            1  \n",
       "3                  1            1  \n",
       "4                  0            1  "
      ]
     },
     "execution_count": 3,
     "metadata": {},
     "output_type": "execute_result"
    }
   ],
   "source": [
    "df=pd.read_csv(\"collegePlace.csv\")\n",
    "df.head()"
   ]
  },
  {
   "cell_type": "markdown",
   "id": "d99a1028",
   "metadata": {},
   "source": [
    "## EDA"
   ]
  },
  {
   "cell_type": "code",
   "execution_count": 4,
   "id": "fd25ca28",
   "metadata": {
    "ExecuteTime": {
     "end_time": "2021-09-04T14:55:33.033167Z",
     "start_time": "2021-09-04T14:55:32.879715Z"
    }
   },
   "outputs": [
    {
     "data": {
      "text/plain": [
       "<AxesSubplot:xlabel='Gender', ylabel='count'>"
      ]
     },
     "execution_count": 4,
     "metadata": {},
     "output_type": "execute_result"
    },
    {
     "data": {
      "image/png": "[encoded data removed]",
      "text/plain": [
       "<Figure size 432x288 with 1 Axes>"
      ]
     },
     "metadata": {
      "needs_background": "light"
     },
     "output_type": "display_data"
    }
   ],
   "source": [
    "sns.countplot(df['Gender'])"
   ]
  },
  {
   "cell_type": "markdown",
   "id": "854121b9",
   "metadata": {},
   "source": [
    "Number of Males Are More than Female For Placements."
   ]
  },
  {
   "cell_type": "code",
   "execution_count": 5,
   "id": "939b6eef",
   "metadata": {
    "ExecuteTime": {
     "end_time": "2021-09-04T14:55:33.222187Z",
     "start_time": "2021-09-04T14:55:33.036172Z"
    },
    "scrolled": false
   },
   "outputs": [
    {
     "data": {
      "text/plain": [
       "<AxesSubplot:xlabel='Stream', ylabel='count'>"
      ]
     },
     "execution_count": 5,
     "metadata": {},
     "output_type": "execute_result"
    },
    {
     "data": {
      "image/png": "[encoded data removed]",
      "text/plain": [
       "<Figure size 1152x288 with 1 Axes>"
      ]
     },
     "metadata": {
      "needs_background": "light"
     },
     "output_type": "display_data"
    }
   ],
   "source": [
    "plt.figure(figsize=(16,4))\n",
    "sns.countplot(df.Stream)"
   ]
  },
  {
   "cell_type": "markdown",
   "id": "f5febce5",
   "metadata": {
    "ExecuteTime": {
     "end_time": "2021-09-04T14:25:27.550463Z",
     "start_time": "2021-09-04T14:25:27.541514Z"
    }
   },
   "source": [
    "###### We can See that for placements Students From Computer Science And It are More than And Other Stream."
   ]
  },
  {
   "cell_type": "code",
   "execution_count": 6,
   "id": "6570089a",
   "metadata": {
    "ExecuteTime": {
     "end_time": "2021-09-04T14:55:33.423933Z",
     "start_time": "2021-09-04T14:55:33.224187Z"
    },
    "scrolled": true
   },
   "outputs": [
    {
     "data": {
      "text/plain": [
       "<AxesSubplot:xlabel='Stream'>"
      ]
     },
     "execution_count": 6,
     "metadata": {},
     "output_type": "execute_result"
    },
    {
     "data": {
      "image/png": "[encoded data removed]",
      "text/plain": [
       "<Figure size 936x360 with 1 Axes>"
      ]
     },
     "metadata": {
      "needs_background": "light"
     },
     "output_type": "display_data"
    }
   ],
   "source": [
    "plt.figure(figsize=(13,5))\n",
    "df.groupby('Stream')['Internships'].sum().plot(kind='bar')"
   ]
  },
  {
   "cell_type": "markdown",
   "id": "47a95eca",
   "metadata": {},
   "source": [
    "###### From The Following Graph We can that that Students From Computer Science Has More Internships than Any Other Stream."
   ]
  },
  {
   "cell_type": "code",
   "execution_count": 7,
   "id": "414cd105",
   "metadata": {
    "ExecuteTime": {
     "end_time": "2021-09-04T14:55:33.579945Z",
     "start_time": "2021-09-04T14:55:33.427935Z"
    }
   },
   "outputs": [
    {
     "data": {
      "text/plain": [
       "<AxesSubplot:xlabel='Stream'>"
      ]
     },
     "execution_count": 7,
     "metadata": {},
     "output_type": "execute_result"
    },
    {
     "data": {
      "image/png": "[encoded data removed]",
      "text/plain": [
       "<Figure size 936x360 with 1 Axes>"
      ]
     },
     "metadata": {
      "needs_background": "light"
     },
     "output_type": "display_data"
    }
   ],
   "source": [
    "plt.figure(figsize=(13,5))\n",
    "df.groupby('Stream')['PlacedOrNot'].sum().plot(kind='bar')"
   ]
  },
  {
   "cell_type": "markdown",
   "id": "5ae79424",
   "metadata": {},
   "source": [
    "###### From The Graph We can that that Students From Computer Science and It Has More Chance of Getting Placed Than Any Other Steam."
   ]
  },
  {
   "cell_type": "markdown",
   "id": "58f8b913",
   "metadata": {},
   "source": [
    "## Encoding"
   ]
  },
  {
   "cell_type": "code",
   "execution_count": 8,
   "id": "d6952b80",
   "metadata": {
    "ExecuteTime": {
     "end_time": "2021-09-04T14:55:33.595945Z",
     "start_time": "2021-09-04T14:55:33.582945Z"
    }
   },
   "outputs": [],
   "source": [
    "from sklearn.preprocessing import LabelEncoder"
   ]
  },
  {
   "cell_type": "code",
   "execution_count": 9,
   "id": "4e343080",
   "metadata": {
    "ExecuteTime": {
     "end_time": "2021-09-04T14:55:33.611946Z",
     "start_time": "2021-09-04T14:55:33.596945Z"
    }
   },
   "outputs": [
    {
     "data": {
      "text/html": [
       "<div>\n",
       "<style scoped>\n",
       "    .dataframe tbody tr th:only-of-type {\n",
       "        vertical-align: middle;\n",
       "    }\n",
       "\n",
       "    .dataframe tbody tr th {\n",
       "        vertical-align: top;\n",
       "    }\n",
       "\n",
       "    .dataframe thead th {\n",
       "        text-align: right;\n",
       "    }\n",
       "</style>\n",
       "<table border=\"1\" class=\"dataframe\">\n",
       "  <thead>\n",
       "    <tr style=\"text-align: right;\">\n",
       "      <th></th>\n",
       "      <th>Age</th>\n",
       "      <th>Gender</th>\n",
       "      <th>Stream</th>\n",
       "      <th>Internships</th>\n",
       "      <th>CGPA</th>\n",
       "      <th>Hostel</th>\n",
       "      <th>HistoryOfBacklogs</th>\n",
       "      <th>PlacedOrNot</th>\n",
       "      <th>gender</th>\n",
       "    </tr>\n",
       "  </thead>\n",
       "  <tbody>\n",
       "    <tr>\n",
       "      <th>0</th>\n",
       "      <td>22</td>\n",
       "      <td>Male</td>\n",
       "      <td>Electronics And Communication</td>\n",
       "      <td>1</td>\n",
       "      <td>8</td>\n",
       "      <td>1</td>\n",
       "      <td>1</td>\n",
       "      <td>1</td>\n",
       "      <td>1</td>\n",
       "    </tr>\n",
       "    <tr>\n",
       "      <th>1</th>\n",
       "      <td>21</td>\n",
       "      <td>Female</td>\n",
       "      <td>Computer Science</td>\n",
       "      <td>0</td>\n",
       "      <td>7</td>\n",
       "      <td>1</td>\n",
       "      <td>1</td>\n",
       "      <td>1</td>\n",
       "      <td>0</td>\n",
       "    </tr>\n",
       "    <tr>\n",
       "      <th>2</th>\n",
       "      <td>22</td>\n",
       "      <td>Female</td>\n",
       "      <td>Information Technology</td>\n",
       "      <td>1</td>\n",
       "      <td>6</td>\n",
       "      <td>0</td>\n",
       "      <td>0</td>\n",
       "      <td>1</td>\n",
       "      <td>0</td>\n",
       "    </tr>\n",
       "    <tr>\n",
       "      <th>3</th>\n",
       "      <td>21</td>\n",
       "      <td>Male</td>\n",
       "      <td>Information Technology</td>\n",
       "      <td>0</td>\n",
       "      <td>8</td>\n",
       "      <td>0</td>\n",
       "      <td>1</td>\n",
       "      <td>1</td>\n",
       "      <td>1</td>\n",
       "    </tr>\n",
       "    <tr>\n",
       "      <th>4</th>\n",
       "      <td>22</td>\n",
       "      <td>Male</td>\n",
       "      <td>Mechanical</td>\n",
       "      <td>0</td>\n",
       "      <td>8</td>\n",
       "      <td>1</td>\n",
       "      <td>0</td>\n",
       "      <td>1</td>\n",
       "      <td>1</td>\n",
       "    </tr>\n",
       "  </tbody>\n",
       "</table>\n",
       "</div>"
      ],
      "text/plain": [
       "   Age  Gender                         Stream  Internships  CGPA  Hostel  \\\n",
       "0   22    Male  Electronics And Communication            1     8       1   \n",
       "1   21  Female               Computer Science            0     7       1   \n",
       "2   22  Female         Information Technology            1     6       0   \n",
       "3   21    Male         Information Technology            0     8       0   \n",
       "4   22    Male                     Mechanical            0     8       1   \n",
       "\n",
       "   HistoryOfBacklogs  PlacedOrNot  gender  \n",
       "0                  1            1       1  \n",
       "1                  1            1       0  \n",
       "2                  0            1       0  \n",
       "3                  1            1       1  \n",
       "4                  0            1       1  "
      ]
     },
     "execution_count": 9,
     "metadata": {},
     "output_type": "execute_result"
    }
   ],
   "source": [
    "lr = LabelEncoder()\n",
    "df['gender'] = pd.DataFrame(lr.fit_transform(df[['Gender']]))\n",
    "df.head()"
   ]
  },
  {
   "cell_type": "code",
   "execution_count": 10,
   "id": "b1a1efcf",
   "metadata": {
    "ExecuteTime": {
     "end_time": "2021-09-04T14:55:33.626947Z",
     "start_time": "2021-09-04T14:55:33.613948Z"
    }
   },
   "outputs": [],
   "source": [
    "df['stream'] = pd.DataFrame(lr.fit_transform(df['Stream']))"
   ]
  },
  {
   "cell_type": "code",
   "execution_count": 11,
   "id": "2c7af2ea",
   "metadata": {
    "ExecuteTime": {
     "end_time": "2021-09-04T14:55:33.642951Z",
     "start_time": "2021-09-04T14:55:33.627947Z"
    }
   },
   "outputs": [],
   "source": [
    "df2 = df.drop(['Gender','Stream'],axis=1)"
   ]
  },
  {
   "cell_type": "code",
   "execution_count": 12,
   "id": "83d4ba14",
   "metadata": {
    "ExecuteTime": {
     "end_time": "2021-09-04T14:55:33.657957Z",
     "start_time": "2021-09-04T14:55:33.644950Z"
    }
   },
   "outputs": [],
   "source": [
    "X = df2.drop('PlacedOrNot',axis=1)\n",
    "y = df2.PlacedOrNot"
   ]
  },
  {
   "cell_type": "code",
   "execution_count": 13,
   "id": "30b66b74",
   "metadata": {
    "ExecuteTime": {
     "end_time": "2021-09-04T14:55:33.672956Z",
     "start_time": "2021-09-04T14:55:33.658956Z"
    }
   },
   "outputs": [],
   "source": [
    "X_train, X_test, y_train, y_test = train_test_split(X,y,test_size=0.3,random_state=1)"
   ]
  },
  {
   "cell_type": "markdown",
   "id": "97bd619a",
   "metadata": {
    "ExecuteTime": {
     "end_time": "2021-09-04T14:10:18.470720Z",
     "start_time": "2021-09-04T14:10:18.444722Z"
    }
   },
   "source": [
    "## Logistic Regression"
   ]
  },
  {
   "cell_type": "code",
   "execution_count": 14,
   "id": "3abb7a92",
   "metadata": {
    "ExecuteTime": {
     "end_time": "2021-09-04T14:55:33.814047Z",
     "start_time": "2021-09-04T14:55:33.674956Z"
    }
   },
   "outputs": [],
   "source": [
    "from sklearn import metrics\n",
    "from sklearn.linear_model import LogisticRegression\n",
    "from sklearn.metrics import classification_report\n",
    "from sklearn.metrics import cohen_kappa_score\n",
    "from sklearn.metrics import confusion_matrix\n",
    "from sklearn.metrics import roc_curve\n",
    "from sklearn.metrics import accuracy_score\n",
    "\n",
    "# import function to perform feature selection\n",
    "from sklearn.feature_selection import RFE"
   ]
  },
  {
   "cell_type": "code",
   "execution_count": 15,
   "id": "fc109bed",
   "metadata": {
    "ExecuteTime": {
     "end_time": "2021-09-04T14:55:33.876061Z",
     "start_time": "2021-09-04T14:55:33.815050Z"
    }
   },
   "outputs": [
    {
     "name": "stdout",
     "output_type": "stream",
     "text": [
      "Accuracy Score 76.74157303370787\n"
     ]
    }
   ],
   "source": [
    "log_reg = LogisticRegression()\n",
    "log_reg.fit(X_train,y_train)\n",
    "y_pred = log_reg.predict(X_test)\n",
    "print('Accuracy Score',accuracy_score(y_test,y_pred)*100)\n",
    "#model has 76% Accuracy..."
   ]
  },
  {
   "cell_type": "code",
   "execution_count": 16,
   "id": "606a0a66",
   "metadata": {
    "ExecuteTime": {
     "end_time": "2021-09-04T14:55:34.130079Z",
     "start_time": "2021-09-04T14:55:33.878064Z"
    }
   },
   "outputs": [
    {
     "data": {
      "image/png": "[encoded data removed]",
      "text/plain": [
       "<Figure size 1080x576 with 1 Axes>"
      ]
     },
     "metadata": {
      "needs_background": "light"
     },
     "output_type": "display_data"
    }
   ],
   "source": [
    "FP_rate,TP_rate,threshold=roc_curve(y_test,y_pred)\n",
    "\n",
    "plt.figure(figsize=(15,8))\n",
    "plt.plot(FP_rate,TP_rate,color='red')\n",
    "plt.plot([0, 1], [0, 1],'r--')\n",
    "plt.xlim([0.0, 1.0])\n",
    "plt.ylim([0.0, 1.0])\n",
    "plt.title('ROC curve for Admission Prediction Classifier (Full Model)', fontsize = 15)\n",
    "plt.xlabel('False positive rate (1-Specificity)', fontsize = 15)\n",
    "plt.ylabel('True positive rate (Sensitivity)', fontsize = 15)\n",
    "plt.text(x = 0.02, y = 0.9, s = ('AUC Score:', round(metrics.roc_auc_score(y_test, y_pred),4)))                               \n",
    "plt.grid(True)\n",
    "plt.show()"
   ]
  },
  {
   "cell_type": "markdown",
   "id": "c7216751",
   "metadata": {},
   "source": [
    "## Decision Tree:-"
   ]
  },
  {
   "cell_type": "code",
   "execution_count": 17,
   "id": "e15445df",
   "metadata": {
    "ExecuteTime": {
     "end_time": "2021-09-04T14:55:34.175322Z",
     "start_time": "2021-09-04T14:55:34.132080Z"
    }
   },
   "outputs": [],
   "source": [
    "from sklearn.tree import DecisionTreeClassifier"
   ]
  },
  {
   "cell_type": "code",
   "execution_count": 18,
   "id": "15767948",
   "metadata": {
    "ExecuteTime": {
     "end_time": "2021-09-04T14:55:34.206336Z",
     "start_time": "2021-09-04T14:55:34.177330Z"
    }
   },
   "outputs": [
    {
     "name": "stdout",
     "output_type": "stream",
     "text": [
      "Accuracy Score on Test dayta:\t 0.8730337078651685\n",
      "Accuracy Score on Train Data:\t 0.9258188824662813\n"
     ]
    }
   ],
   "source": [
    "DT=DecisionTreeClassifier() \n",
    "DT_model_full = DT.fit(X_train,y_train) \n",
    "y_pred_test = DT_model_full.predict(X_test) \n",
    "print(\"Accuracy Score on Test dayta:\\t\",accuracy_score(y_test,y_pred_test))\n",
    "y_pred_train = DT_model_full.predict(X_train) \n",
    "print(\"Accuracy Score on Train Data:\\t\",accuracy_score(y_train,y_pred_train))"
   ]
  },
  {
   "cell_type": "code",
   "execution_count": 22,
   "id": "5b445f5a",
   "metadata": {
    "ExecuteTime": {
     "end_time": "2021-09-04T14:55:42.993086Z",
     "start_time": "2021-09-04T14:55:42.803942Z"
    }
   },
   "outputs": [
    {
     "data": {
      "image/png": "[encoded data removed]",
      "text/plain": [
       "<Figure size 1080x576 with 1 Axes>"
      ]
     },
     "metadata": {
      "needs_background": "light"
     },
     "output_type": "display_data"
    }
   ],
   "source": [
    "FP_rate,TP_rate,threshold=roc_curve(y_test,y_pred_test)\n",
    "\n",
    "plt.figure(figsize=(15,8))\n",
    "plt.plot(FP_rate,TP_rate,color='red')\n",
    "plt.plot([0, 1], [0, 1],'r--')\n",
    "plt.xlim([0.0, 1.0])\n",
    "plt.ylim([0.0, 1.0])\n",
    "plt.title('ROC curve for Admission Prediction Classifier (Full Model)', fontsize = 15)\n",
    "plt.xlabel('False positive rate (1-Specificity)', fontsize = 15)\n",
    "plt.ylabel('True positive rate (Sensitivity)', fontsize = 15)\n",
    "plt.text(x = 0.02, y = 0.9, s = ('AUC Score:', round(metrics.roc_auc_score(y_test, y_pred_test),4)))                               \n",
    "plt.grid(True)\n",
    "plt.show()"
   ]
  },
  {
   "cell_type": "code",
   "execution_count": 20,
   "id": "bb0cb280",
   "metadata": {
    "ExecuteTime": {
     "end_time": "2021-09-04T14:55:34.430357Z",
     "start_time": "2021-09-04T14:55:34.415357Z"
    }
   },
   "outputs": [
    {
     "data": {
      "text/html": [
       "<div>\n",
       "<style scoped>\n",
       "    .dataframe tbody tr th:only-of-type {\n",
       "        vertical-align: middle;\n",
       "    }\n",
       "\n",
       "    .dataframe tbody tr th {\n",
       "        vertical-align: top;\n",
       "    }\n",
       "\n",
       "    .dataframe thead th {\n",
       "        text-align: right;\n",
       "    }\n",
       "</style>\n",
       "<table border=\"1\" class=\"dataframe\">\n",
       "  <thead>\n",
       "    <tr style=\"text-align: right;\">\n",
       "      <th></th>\n",
       "      <th>Age</th>\n",
       "      <th>Internships</th>\n",
       "      <th>CGPA</th>\n",
       "      <th>Hostel</th>\n",
       "      <th>HistoryOfBacklogs</th>\n",
       "      <th>gender</th>\n",
       "      <th>stream</th>\n",
       "    </tr>\n",
       "  </thead>\n",
       "  <tbody>\n",
       "    <tr>\n",
       "      <th>2375</th>\n",
       "      <td>19</td>\n",
       "      <td>1</td>\n",
       "      <td>8</td>\n",
       "      <td>1</td>\n",
       "      <td>0</td>\n",
       "      <td>1</td>\n",
       "      <td>5</td>\n",
       "    </tr>\n",
       "    <tr>\n",
       "      <th>93</th>\n",
       "      <td>22</td>\n",
       "      <td>2</td>\n",
       "      <td>7</td>\n",
       "      <td>0</td>\n",
       "      <td>0</td>\n",
       "      <td>0</td>\n",
       "      <td>4</td>\n",
       "    </tr>\n",
       "  </tbody>\n",
       "</table>\n",
       "</div>"
      ],
      "text/plain": [
       "      Age  Internships  CGPA  Hostel  HistoryOfBacklogs  gender  stream\n",
       "2375   19            1     8       1                  0       1       5\n",
       "93     22            2     7       0                  0       0       4"
      ]
     },
     "execution_count": 20,
     "metadata": {},
     "output_type": "execute_result"
    }
   ],
   "source": [
    "X_train.head(2)"
   ]
  },
  {
   "cell_type": "markdown",
   "id": "73317a90",
   "metadata": {},
   "source": [
    "## Lets Predict..."
   ]
  },
  {
   "cell_type": "code",
   "execution_count": 21,
   "id": "e8803f16",
   "metadata": {
    "ExecuteTime": {
     "end_time": "2021-09-04T14:55:34.446357Z",
     "start_time": "2021-09-04T14:55:34.431357Z"
    }
   },
   "outputs": [
    {
     "name": "stdout",
     "output_type": "stream",
     "text": [
      "Predicted VAlue:-  [1]\n"
     ]
    }
   ],
   "source": [
    "Val = [[30,0,8,0,0,1,5]]\n",
    "print(\"Predicted VAlue:- \",DT_model_full.predict(Val) )"
   ]
  }
 ],
 "metadata": {
  "hide_input": false,
  "kernelspec": {
   "display_name": "Python 3",
   "language": "python",
   "name": "python3"
  },
  "language_info": {
   "codemirror_mode": {
    "name": "ipython",
    "version": 3
   },
   "file_extension": ".py",
   "mimetype": "text/x-python",
   "name": "python",
   "nbconvert_exporter": "python",
   "pygments_lexer": "ipython3",
   "version": "3.8.8"
  }
 },
 "nbformat": 4,
 "nbformat_minor": 5
}
